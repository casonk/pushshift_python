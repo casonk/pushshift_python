{
 "cells": [
  {
   "cell_type": "code",
   "execution_count": null,
   "id": "a03ce878",
   "metadata": {},
   "outputs": [
    {
     "name": "stderr",
     "output_type": "stream",
     "text": [
      "[nltk_data] Downloading package vader_lexicon to\n",
      "[nltk_data]     /Users/grantfinn/nltk_data...\n",
      "[nltk_data]   Package vader_lexicon is already up-to-date!\n"
     ]
    }
   ],
   "source": [
    "import datetime\n",
    "import os\n",
    "import pandas as pd\n",
    "import nltk\n",
    "# nltk.download('vader_lexicon')\n",
    "from nltk.sentiment.vader import SentimentIntensityAnalyzer\n",
    "\n",
    "sid = SentimentIntensityAnalyzer()\n",
    "\n",
    "save_path = '/Users/grantfinn/Documents/UROP Research/NLP_results/'\n",
    "file = '/Users/grantfinn/Documents/UROP Research/Dump/acip.Data.csv'\n",
    "os.chdir('/Users/grantfinn/Documents/UROP Research/Dump/')\n",
    "\n",
    "df2 = pd.DataFrame(columns=['Sub', 'B_M', 'B_SD'])\n",
    "\n",
    "for file in os.listdir():\n",
    "    df = pd.read_csv(file, low_memory=False)\n",
    "    df[\"Body_Sentiment\"] = df[\"Body\"].dropna().apply(lambda x: sid.polarity_scores(x))\n",
    "    x = df[\"Body_Sentiment\"].dropna().apply(lambda x: x[\"compound\"]).describe()\n",
    "    df2.append([file, x['mean'], x['std']])\n",
    "df.to_csv(\"Summary.csv\")   \n",
    "    "
   ]
  },
  {
   "cell_type": "code",
   "execution_count": null,
   "id": "b489c422",
   "metadata": {},
   "outputs": [],
   "source": [
    "\n",
    "df = pd.read_csv(file, low_memory=False)\n",
    "df[\"Body_Sentiment\"] = df[\"Body\"].dropna().apply(lambda x: sid.polarity_scores(x))\n",
    "df[\"Body_Sentiment\"].dropna().apply(lambda x: x[\"compound\"]).describe()"
   ]
  },
  {
   "cell_type": "code",
   "execution_count": 4,
   "id": "9f62c22f",
   "metadata": {},
   "outputs": [
    {
     "data": {
      "text/plain": [
       "0                                                     NaN\n",
       "1                                                     NaN\n",
       "2                                                     NaN\n",
       "3                                                     NaN\n",
       "4                                                     NaN\n",
       "                              ...                        \n",
       "6118    {'neg': 0.048, 'neu': 0.85, 'pos': 0.102, 'com...\n",
       "6119    {'neg': 0.092, 'neu': 0.805, 'pos': 0.102, 'co...\n",
       "6120    {'neg': 0.0, 'neu': 0.822, 'pos': 0.178, 'comp...\n",
       "6121    {'neg': 0.205, 'neu': 0.514, 'pos': 0.281, 'co...\n",
       "6122    {'neg': 0.074, 'neu': 0.803, 'pos': 0.124, 'co...\n",
       "Name: Body_Sentiment, Length: 6123, dtype: object"
      ]
     },
     "execution_count": 4,
     "metadata": {},
     "output_type": "execute_result"
    }
   ],
   "source": [
    "df[\"Body_Sentiment\"]"
   ]
  },
  {
   "cell_type": "code",
   "execution_count": 11,
   "id": "1449705a",
   "metadata": {},
   "outputs": [
    {
     "data": {
      "text/plain": [
       "count                                                  5950\n",
       "unique                                                 4320\n",
       "top       {'neg': 0.0, 'neu': 1.0, 'pos': 0.0, 'compound...\n",
       "freq                                                   1403\n",
       "Name: Body_Sentiment, dtype: object"
      ]
     },
     "execution_count": 11,
     "metadata": {},
     "output_type": "execute_result"
    }
   ],
   "source": [
    "df[\"Body_Sentiment\"].describe()"
   ]
  },
  {
   "cell_type": "code",
   "execution_count": 12,
   "id": "092521b7",
   "metadata": {},
   "outputs": [
    {
     "data": {
      "text/plain": [
       "count    5950.000000\n",
       "mean        0.051111\n",
       "std         0.062802\n",
       "min         0.000000\n",
       "25%         0.000000\n",
       "50%         0.034000\n",
       "75%         0.082000\n",
       "max         0.756000\n",
       "Name: Body_Sentiment, dtype: float64"
      ]
     },
     "execution_count": 12,
     "metadata": {},
     "output_type": "execute_result"
    }
   ],
   "source": [
    "df[\"Body_Sentiment\"].dropna().apply(lambda x: x[\"neg\"]).describe()\n"
   ]
  },
  {
   "cell_type": "code",
   "execution_count": 13,
   "id": "7b37c33d",
   "metadata": {},
   "outputs": [
    {
     "data": {
      "text/plain": [
       "count    5950.000000\n",
       "mean        0.885160\n",
       "std         0.096448\n",
       "min         0.244000\n",
       "25%         0.828000\n",
       "50%         0.888000\n",
       "75%         0.977000\n",
       "max         1.000000\n",
       "Name: Body_Sentiment, dtype: float64"
      ]
     },
     "execution_count": 13,
     "metadata": {},
     "output_type": "execute_result"
    }
   ],
   "source": [
    "df[\"Body_Sentiment\"].dropna().apply(lambda x: x[\"neu\"]).describe()"
   ]
  },
  {
   "cell_type": "code",
   "execution_count": 14,
   "id": "68f758c1",
   "metadata": {},
   "outputs": [
    {
     "data": {
      "text/plain": [
       "count    5950.000000\n",
       "mean        0.063724\n",
       "std         0.068613\n",
       "min         0.000000\n",
       "25%         0.000000\n",
       "50%         0.055000\n",
       "75%         0.097000\n",
       "max         0.756000\n",
       "Name: Body_Sentiment, dtype: float64"
      ]
     },
     "execution_count": 14,
     "metadata": {},
     "output_type": "execute_result"
    }
   ],
   "source": [
    "df[\"Body_Sentiment\"].dropna().apply(lambda x: x[\"pos\"]).describe()"
   ]
  },
  {
   "cell_type": "code",
   "execution_count": 15,
   "id": "987e694a",
   "metadata": {},
   "outputs": [
    {
     "data": {
      "text/plain": [
       "count    5950.000000\n",
       "mean        0.089285\n",
       "std         0.583194\n",
       "min        -0.999800\n",
       "25%        -0.296000\n",
       "50%         0.000000\n",
       "75%         0.599400\n",
       "max         0.999500\n",
       "Name: Body_Sentiment, dtype: float64"
      ]
     },
     "execution_count": 15,
     "metadata": {},
     "output_type": "execute_result"
    }
   ],
   "source": [
    "df[\"Body_Sentiment\"].dropna().apply(lambda x: x[\"compound\"]).describe()"
   ]
  },
  {
   "cell_type": "code",
   "execution_count": 20,
   "id": "f73ead72",
   "metadata": {
    "scrolled": true
   },
   "outputs": [
    {
     "data": {
      "text/plain": [
       "count    6123.000000\n",
       "mean        0.061930\n",
       "std         0.159408\n",
       "min        -1.000000\n",
       "25%         0.000000\n",
       "50%         0.029121\n",
       "75%         0.126725\n",
       "max         1.000000\n",
       "Name: Body Polarity, dtype: float64"
      ]
     },
     "execution_count": 20,
     "metadata": {},
     "output_type": "execute_result"
    }
   ],
   "source": [
    "file2 = '/Users/grantfinn/Documents/UROP Research/NLP_results/ACIP_Search_Results_Processed_by_Post.csv' \n",
    "df2 = pd.read_csv(file2, low_memory=False) \n",
    "df2[\"Body Polarity\"].describe()\n"
   ]
  },
  {
   "cell_type": "code",
   "execution_count": null,
   "id": "85abf7fb",
   "metadata": {},
   "outputs": [],
   "source": []
  }
 ],
 "metadata": {
  "kernelspec": {
   "display_name": "Python 3 (ipykernel)",
   "language": "python",
   "name": "python3"
  },
  "language_info": {
   "codemirror_mode": {
    "name": "ipython",
    "version": 3
   },
   "file_extension": ".py",
   "mimetype": "text/x-python",
   "name": "python",
   "nbconvert_exporter": "python",
   "pygments_lexer": "ipython3",
   "version": "3.10.0"
  }
 },
 "nbformat": 4,
 "nbformat_minor": 5
}

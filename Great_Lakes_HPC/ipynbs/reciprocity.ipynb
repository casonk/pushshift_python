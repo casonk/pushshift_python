{
 "cells": [
  {
   "cell_type": "code",
   "execution_count": 1,
   "metadata": {},
   "outputs": [],
   "source": [
    "import networkx as nx\n",
    "import pandas as pd\n",
    "import pickle\n",
    "\n",
    "pd.set_option('display.max_rows',10000)\n",
    "pd.set_option('display.min_rows',2000)\n",
    "pd.set_option('display.column_space',30)\n",
    "pd.set_option('display.max_colwidth',150)\n",
    "pd.set_option('display.expand_frame_repr',True)\n",
    "\n",
    "_end_dates    = pd.Series(pd.date_range(start=\"2020-10-08\", end=\"2021-03-31\", freq=\"D\", tz='America/New_York'))\n",
    "_start_dates  = _end_dates - pd.Timedelta(days=7)\n",
    "_center_dates = _end_dates - pd.Timedelta(days=3.5)\n",
    "end_dates     = _end_dates.apply(lambda x: x.timestamp())\n",
    "center_dates  = _center_dates.apply(lambda x: x.timestamp())\n",
    "start_dates   = _start_dates.apply(lambda x: x.timestamp())\n",
    "_end_dates    = _end_dates.apply(lambda x:str(x).split(' ')[0])\n",
    "_center_dates = _center_dates.apply(lambda x:str(x).split(' ')[0])\n",
    "_start_dates  = _start_dates.apply(lambda x:str(x).split(' ')[0])\n",
    "\n",
    "id_l = '/home/casonk/path/mmani_root/mmani0/shared_data/hot/push_file/IDL/'\n",
    "\n",
    "j=1\n",
    "k=21\n",
    "r=5"
   ]
  },
  {
   "cell_type": "code",
   "execution_count": 7,
   "metadata": {},
   "outputs": [],
   "source": [
    "with open('/home/casonk/path/mmani_root/mmani0/shared_data/hot/push_file/IDL/2020-10-04/TRIMMED_DF_1_21.pkl', 'rb') as fh:\n",
    "    an = pickle.load(fh)"
   ]
  },
  {
   "cell_type": "code",
   "execution_count": 16,
   "metadata": {},
   "outputs": [
    {
     "ename": "",
     "evalue": "",
     "output_type": "error",
     "traceback": [
      "\u001b[1;31mCanceled future for execute_request message before replies were done"
     ]
    },
    {
     "ename": "",
     "evalue": "",
     "output_type": "error",
     "traceback": [
      "\u001b[1;31mThe Kernel crashed while executing code in the the current cell or a previous cell. Please review the code in the cell(s) to identify a possible cause of the failure. Click <a href='https://aka.ms/vscodeJupyterKernelCrash'>here</a> for more info. View Jupyter <a href='command:jupyter.viewOutput'>log</a> for further details."
     ]
    }
   ],
   "source": [
    "pd.DataFrame(0, index=aus[0], columns=aus[0])"
   ]
  },
  {
   "cell_type": "code",
   "execution_count": null,
   "metadata": {},
   "outputs": [],
   "source": [
    "an[an['Source'].isin(aus[0]) & an['Target'].isin(aus[0])]"
   ]
  },
  {
   "cell_type": "code",
   "execution_count": 2,
   "metadata": {},
   "outputs": [],
   "source": [
    "with open('/home/casonk/path/mmani_root/mmani0/shared_data/hot/push_file/IDL/2020-10-04/LC_1_21_10.pkl', 'rb') as fh:\n",
    "    aus = pickle.load(fh)"
   ]
  },
  {
   "cell_type": "code",
   "execution_count": 10,
   "metadata": {},
   "outputs": [],
   "source": [
    "with open('/home/casonk/path/mmani_root/mmani0/shared_data/hot/push_file/IDL/2020-10-04/G_1_21.pkl', 'rb') as fh:\n",
    "    G = pickle.load(fh)"
   ]
  },
  {
   "cell_type": "code",
   "execution_count": null,
   "metadata": {},
   "outputs": [],
   "source": [
    "neoliberal_tl = []\n",
    "neoliberal_ei = []\n",
    "neoliberal_dt = []\n",
    "n=2\n",
    "for date in _center_dates:\n",
    "    ei_df = pd.read_pickle((id_l + date + ('/EI_DF_{}_{}_{}.pkl').format(j, k, r)))\n",
    "    top_75 = ei_df.sort_values(by=['Total_Links'], ascending=False).head(300)\n",
    "    comm_sub_pairs = pd.read_pickle((id_l + date + ('/CSP_{}_{}_{}.pkl').format(j, k, r)))\n",
    "    top_ns_75 = comm_sub_pairs.loc[top_75.index].groupby(level=0, axis=0).apply(lambda x : x.head(n)).droplevel(0)\n",
    "    coms = top_ns_75.index.get_level_values(0)\n",
    "    subs = top_ns_75.index.get_level_values(1)\n",
    "    dekka = pd.DataFrame({'com':coms, 'sub':subs})\n",
    "    insubs = ['neoliberal']\n",
    "    match = dekka[dekka['sub'].isin(insubs)]\n",
    "    if len(match['com'].unique()) == 1:\n",
    "        incom = int(match['com'].unique()[0])\n",
    "        neoliberal_tl += [ei_df.loc[incom, ['Total_Links','EI_Index']][0]]\n",
    "        neoliberal_ei += [ei_df.loc[incom, ['Total_Links','EI_Index']][1]]\n",
    "        neoliberal_dt += [date]\n",
    "        print(date, incom)\n",
    "    else:\n",
    "        print('**', date, len(match['com'].unique()), 'comm')\n",
    "\n",
    "ukpolitics_tl = []\n",
    "ukpolitics_ei = []\n",
    "ukpolitics_dt = []\n",
    "n=3\n",
    "for date in _center_dates:\n",
    "    ei_df = pd.read_pickle((id_l + date + ('/EI_DF_{}_{}_{}.pkl').format(j, k, r)))\n",
    "    top_75 = ei_df.sort_values(by=['Total_Links'], ascending=False).head(75)\n",
    "    comm_sub_pairs = pd.read_pickle((id_l + date + ('/CSP_{}_{}_{}.pkl').format(j, k, r)))\n",
    "    top_ns_75 = comm_sub_pairs.loc[top_75.index].groupby(level=0, axis=0).apply(lambda x : x.head(n)).droplevel(0)\n",
    "    coms = top_ns_75.index.get_level_values(0)\n",
    "    subs = top_ns_75.index.get_level_values(1)\n",
    "    dekka = pd.DataFrame({'com':coms, 'sub':subs})\n",
    "    insubs = ['ukpolitics']\n",
    "    match = dekka[dekka['sub'].isin(insubs)]\n",
    "    if len(match['com'].unique()) == 1:\n",
    "        incom = int(match['com'].unique()[0])\n",
    "        ukpolitics_tl += [ei_df.loc[incom, ['Total_Links','EI_Index']][0]]\n",
    "        ukpolitics_ei += [ei_df.loc[incom, ['Total_Links','EI_Index']][1]]\n",
    "        ukpolitics_dt += [date]\n",
    "        print(date, incom)\n",
    "    else:\n",
    "        print('**', date, len(match['com'].unique()), 'comm')\n",
    "\n",
    "conservative_tl = []\n",
    "conservative_ei = []\n",
    "conservative_dt = []\n",
    "n=1\n",
    "for date in _center_dates:\n",
    "    ei_df = pd.read_pickle((id_l + date + ('/EI_DF_{}_{}_{}.pkl').format(j, k, r)))\n",
    "    top_75 = ei_df.sort_values(by=['Total_Links'], ascending=False).head(75)\n",
    "    comm_sub_pairs = pd.read_pickle((id_l + date + ('/CSP_{}_{}_{}.pkl').format(j, k, r)))\n",
    "    top_ns_75 = comm_sub_pairs.loc[top_75.index].groupby(level=0, axis=0).apply(lambda x : x.head(n)).droplevel(0)\n",
    "    coms = top_ns_75.index.get_level_values(0)\n",
    "    subs = top_ns_75.index.get_level_values(1)\n",
    "    dekka = pd.DataFrame({'com':coms, 'sub':subs})\n",
    "    insubs = ['conservative']\n",
    "    match = dekka[dekka['sub'].isin(insubs)]\n",
    "    if len(match['com'].unique()) == 1:\n",
    "        incom = int(match['com'].unique()[0])\n",
    "        conservative_tl += [ei_df.loc[incom, ['Total_Links','EI_Index']][0]]\n",
    "        conservative_ei += [ei_df.loc[incom, ['Total_Links','EI_Index']][1]]\n",
    "        conservative_dt += [date]\n",
    "        print(date, incom)\n",
    "    else:\n",
    "        print('**', date, len(match['com'].unique()), 'comm')\n",
    "\n",
    "conspiracy_tl = []\n",
    "conspiracy_ei = []\n",
    "conspiracy_dt = []\n",
    "n=3\n",
    "for date in _center_dates:\n",
    "    ei_df = pd.read_pickle((id_l + date + ('/EI_DF_{}_{}_{}.pkl').format(j, k, r)))\n",
    "    top_75 = ei_df.sort_values(by=['Total_Links'], ascending=False).head(75)\n",
    "    comm_sub_pairs = pd.read_pickle((id_l + date + ('/CSP_{}_{}_{}.pkl').format(j, k, r)))\n",
    "    top_ns_75 = comm_sub_pairs.loc[top_75.index].groupby(level=0, axis=0).apply(lambda x : x.head(n)).droplevel(0)\n",
    "    coms = top_ns_75.index.get_level_values(0)\n",
    "    subs = top_ns_75.index.get_level_values(1)\n",
    "    dekka = pd.DataFrame({'com':coms, 'sub':subs})\n",
    "    insubs = ['conspiracy']\n",
    "    match = dekka[dekka['sub'].isin(insubs)]\n",
    "    if len(match['com'].unique()) == 1:\n",
    "        incom = int(match['com'].unique()[0])\n",
    "        conspiracy_tl += [ei_df.loc[incom, ['Total_Links','EI_Index']][0]]\n",
    "        conspiracy_ei += [ei_df.loc[incom, ['Total_Links','EI_Index']][1]]\n",
    "        conspiracy_dt += [date]\n",
    "        print(date, incom)\n",
    "    else:\n",
    "        print('**', date, len(match['com'].unique()), 'comm')\n",
    "\n",
    "politics_tl = []\n",
    "politics_ei = []\n",
    "politics_dt = []\n",
    "n=1\n",
    "for date in _center_dates:\n",
    "    ei_df = pd.read_pickle((id_l + date + ('/EI_DF_{}_{}_{}.pkl').format(j, k, r)))\n",
    "    top_75 = ei_df.sort_values(by=['Total_Links'], ascending=False).head(75)\n",
    "    comm_sub_pairs = pd.read_pickle((id_l + date + ('/CSP_{}_{}_{}.pkl').format(j, k, r)))\n",
    "    top_ns_75 = comm_sub_pairs.loc[top_75.index].groupby(level=0, axis=0).apply(lambda x : x.head(n)).droplevel(0)\n",
    "    coms = top_ns_75.index.get_level_values(0)\n",
    "    subs = top_ns_75.index.get_level_values(1)\n",
    "    dekka = pd.DataFrame({'com':coms, 'sub':subs})\n",
    "    insubs = ['politics']\n",
    "    match = dekka[dekka['sub'].isin(insubs)]\n",
    "    if len(match['com'].unique()) == 1:\n",
    "        incom = int(match['com'].unique()[0])\n",
    "        politics_tl += [ei_df.loc[incom, ['Total_Links','EI_Index']][0]]\n",
    "        politics_ei += [ei_df.loc[incom, ['Total_Links','EI_Index']][1]]\n",
    "        politics_dt += [date]\n",
    "        print(date, incom)\n",
    "    else:\n",
    "        print('**', date, len(match['com'].unique()), 'comm')"
   ]
  }
 ],
 "metadata": {
  "kernelspec": {
   "display_name": "Python 3.9.7 64-bit ('2021.11')",
   "language": "python",
   "name": "python3"
  },
  "language_info": {
   "codemirror_mode": {
    "name": "ipython",
    "version": 3
   },
   "file_extension": ".py",
   "mimetype": "text/x-python",
   "name": "python",
   "nbconvert_exporter": "python",
   "pygments_lexer": "ipython3",
   "version": "3.9.7"
  },
  "orig_nbformat": 4,
  "vscode": {
   "interpreter": {
    "hash": "3d640762a30aa107e3ef8edb5155f89bb0fa7043f11b91a52d0500674fcb9c16"
   }
  }
 },
 "nbformat": 4,
 "nbformat_minor": 2
}

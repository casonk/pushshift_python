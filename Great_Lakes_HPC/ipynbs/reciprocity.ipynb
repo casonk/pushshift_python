{
 "cells": [
  {
   "cell_type": "code",
   "execution_count": 1,
   "metadata": {},
   "outputs": [],
   "source": [
    "import networkx as nx\n",
    "import pandas as pd\n",
    "import pickle\n",
    "\n",
    "pd.set_option('display.max_rows',10000)\n",
    "pd.set_option('display.min_rows',2000)\n",
    "pd.set_option('display.column_space',30)\n",
    "pd.set_option('display.max_colwidth',150)\n",
    "pd.set_option('display.expand_frame_repr',True)\n",
    "\n",
    "_end_dates    = pd.Series(pd.date_range(start=\"2020-10-08\", end=\"2021-03-31\", freq=\"D\", tz='America/New_York'))\n",
    "_start_dates  = _end_dates - pd.Timedelta(days=7)\n",
    "_center_dates = _end_dates - pd.Timedelta(days=3.5)\n",
    "end_dates     = _end_dates.apply(lambda x: x.timestamp())\n",
    "center_dates  = _center_dates.apply(lambda x: x.timestamp())\n",
    "start_dates   = _start_dates.apply(lambda x: x.timestamp())\n",
    "_end_dates    = _end_dates.apply(lambda x:str(x).split(' ')[0])\n",
    "_center_dates = _center_dates.apply(lambda x:str(x).split(' ')[0])\n",
    "_start_dates  = _start_dates.apply(lambda x:str(x).split(' ')[0])\n",
    "\n",
    "id_l = '/home/casonk/path/mmani_root/mmani0/shared_data/hot/push_file/IDL/'\n",
    "\n",
    "j=1\n",
    "k=21\n",
    "r=5"
   ]
  },
  {
   "cell_type": "code",
   "execution_count": 2,
   "metadata": {},
   "outputs": [],
   "source": [
    "with open('/home/casonk/path/mmani_root/mmani0/shared_data/hot/push_file/IDL/2020-10-04/LC_1_21_10.pkl', 'rb') as fh:\n",
    "    aus = pickle.load(fh)"
   ]
  },
  {
   "cell_type": "code",
   "execution_count": 3,
   "metadata": {},
   "outputs": [],
   "source": [
    "df = pd.DataFrame(0, index=aus[0], columns=aus[0])"
   ]
  },
  {
   "cell_type": "code",
   "execution_count": 5,
   "metadata": {},
   "outputs": [],
   "source": [
    "with open('/home/casonk/path/mmani_root/mmani0/shared_data/hot/push_file/IDL/2020-10-04/TRIMMED_DF_1_21.pkl', 'rb') as fh:\n",
    "    an = pickle.load(fh)"
   ]
  },
  {
   "cell_type": "code",
   "execution_count": 6,
   "metadata": {},
   "outputs": [],
   "source": [
    "edges = an[an['Source'].isin(aus[0]) & an['Target'].isin(aus[0])]"
   ]
  },
  {
   "cell_type": "code",
   "execution_count": 9,
   "metadata": {},
   "outputs": [
    {
     "data": {
      "text/plain": [
       "0"
      ]
     },
     "execution_count": 9,
     "metadata": {},
     "output_type": "execute_result"
    }
   ],
   "source": [
    "df.loc['maxventiplus6','jyl5555']"
   ]
  },
  {
   "cell_type": "code",
   "execution_count": 17,
   "metadata": {},
   "outputs": [],
   "source": [
    "for values in edges.values:\n",
    "    df.loc[values[0],values[1]] = int(values[3])\n",
    "    # print(values)"
   ]
  },
  {
   "cell_type": "code",
   "execution_count": 14,
   "metadata": {},
   "outputs": [],
   "source": [
    "recip = 0\n",
    "for i in range(len(df)):\n",
    "    for j in range(len(df)):\n",
    "        if df.iloc[i,j] > 0:\n",
    "            if df.iloc[j,i] > 0:\n",
    "                recip += min(df.iloc[i,j], df.iloc[j,i])"
   ]
  },
  {
   "cell_type": "code",
   "execution_count": 15,
   "metadata": {},
   "outputs": [
    {
     "data": {
      "text/plain": [
       "414"
      ]
     },
     "execution_count": 15,
     "metadata": {},
     "output_type": "execute_result"
    }
   ],
   "source": [
    "recip"
   ]
  },
  {
   "cell_type": "code",
   "execution_count": null,
   "metadata": {},
   "outputs": [],
   "source": [
    "neoliberal_tl = []\n",
    "neoliberal_ei = []\n",
    "neoliberal_dt = []\n",
    "n=2\n",
    "for date in _center_dates:\n",
    "    ei_df = pd.read_pickle((id_l + date + ('/EI_DF_{}_{}_{}.pkl').format(j, k, r)))\n",
    "    top_75 = ei_df.sort_values(by=['Total_Links'], ascending=False).head(300)\n",
    "    comm_sub_pairs = pd.read_pickle((id_l + date + ('/CSP_{}_{}_{}.pkl').format(j, k, r)))\n",
    "    top_ns_75 = comm_sub_pairs.loc[top_75.index].groupby(level=0, axis=0).apply(lambda x : x.head(n)).droplevel(0)\n",
    "    coms = top_ns_75.index.get_level_values(0)\n",
    "    subs = top_ns_75.index.get_level_values(1)\n",
    "    dekka = pd.DataFrame({'com':coms, 'sub':subs})\n",
    "    insubs = ['neoliberal']\n",
    "    match = dekka[dekka['sub'].isin(insubs)]\n",
    "    if len(match['com'].unique()) == 1:\n",
    "        incom = int(match['com'].unique()[0])\n",
    "        neoliberal_tl += [ei_df.loc[incom, ['Total_Links','EI_Index']][0]]\n",
    "        neoliberal_ei += [ei_df.loc[incom, ['Total_Links','EI_Index']][1]]\n",
    "        neoliberal_dt += [date]\n",
    "        print(date, incom)\n",
    "    else:\n",
    "        print('**', date, len(match['com'].unique()), 'comm')\n",
    "\n",
    "ukpolitics_tl = []\n",
    "ukpolitics_ei = []\n",
    "ukpolitics_dt = []\n",
    "n=3\n",
    "for date in _center_dates:\n",
    "    ei_df = pd.read_pickle((id_l + date + ('/EI_DF_{}_{}_{}.pkl').format(j, k, r)))\n",
    "    top_75 = ei_df.sort_values(by=['Total_Links'], ascending=False).head(75)\n",
    "    comm_sub_pairs = pd.read_pickle((id_l + date + ('/CSP_{}_{}_{}.pkl').format(j, k, r)))\n",
    "    top_ns_75 = comm_sub_pairs.loc[top_75.index].groupby(level=0, axis=0).apply(lambda x : x.head(n)).droplevel(0)\n",
    "    coms = top_ns_75.index.get_level_values(0)\n",
    "    subs = top_ns_75.index.get_level_values(1)\n",
    "    dekka = pd.DataFrame({'com':coms, 'sub':subs})\n",
    "    insubs = ['ukpolitics']\n",
    "    match = dekka[dekka['sub'].isin(insubs)]\n",
    "    if len(match['com'].unique()) == 1:\n",
    "        incom = int(match['com'].unique()[0])\n",
    "        ukpolitics_tl += [ei_df.loc[incom, ['Total_Links','EI_Index']][0]]\n",
    "        ukpolitics_ei += [ei_df.loc[incom, ['Total_Links','EI_Index']][1]]\n",
    "        ukpolitics_dt += [date]\n",
    "        print(date, incom)\n",
    "    else:\n",
    "        print('**', date, len(match['com'].unique()), 'comm')\n",
    "\n",
    "conservative_tl = []\n",
    "conservative_ei = []\n",
    "conservative_dt = []\n",
    "n=1\n",
    "for date in _center_dates:\n",
    "    ei_df = pd.read_pickle((id_l + date + ('/EI_DF_{}_{}_{}.pkl').format(j, k, r)))\n",
    "    top_75 = ei_df.sort_values(by=['Total_Links'], ascending=False).head(75)\n",
    "    comm_sub_pairs = pd.read_pickle((id_l + date + ('/CSP_{}_{}_{}.pkl').format(j, k, r)))\n",
    "    top_ns_75 = comm_sub_pairs.loc[top_75.index].groupby(level=0, axis=0).apply(lambda x : x.head(n)).droplevel(0)\n",
    "    coms = top_ns_75.index.get_level_values(0)\n",
    "    subs = top_ns_75.index.get_level_values(1)\n",
    "    dekka = pd.DataFrame({'com':coms, 'sub':subs})\n",
    "    insubs = ['conservative']\n",
    "    match = dekka[dekka['sub'].isin(insubs)]\n",
    "    if len(match['com'].unique()) == 1:\n",
    "        incom = int(match['com'].unique()[0])\n",
    "        conservative_tl += [ei_df.loc[incom, ['Total_Links','EI_Index']][0]]\n",
    "        conservative_ei += [ei_df.loc[incom, ['Total_Links','EI_Index']][1]]\n",
    "        conservative_dt += [date]\n",
    "        print(date, incom)\n",
    "    else:\n",
    "        print('**', date, len(match['com'].unique()), 'comm')\n",
    "\n",
    "conspiracy_tl = []\n",
    "conspiracy_ei = []\n",
    "conspiracy_dt = []\n",
    "n=3\n",
    "for date in _center_dates:\n",
    "    ei_df = pd.read_pickle((id_l + date + ('/EI_DF_{}_{}_{}.pkl').format(j, k, r)))\n",
    "    top_75 = ei_df.sort_values(by=['Total_Links'], ascending=False).head(75)\n",
    "    comm_sub_pairs = pd.read_pickle((id_l + date + ('/CSP_{}_{}_{}.pkl').format(j, k, r)))\n",
    "    top_ns_75 = comm_sub_pairs.loc[top_75.index].groupby(level=0, axis=0).apply(lambda x : x.head(n)).droplevel(0)\n",
    "    coms = top_ns_75.index.get_level_values(0)\n",
    "    subs = top_ns_75.index.get_level_values(1)\n",
    "    dekka = pd.DataFrame({'com':coms, 'sub':subs})\n",
    "    insubs = ['conspiracy']\n",
    "    match = dekka[dekka['sub'].isin(insubs)]\n",
    "    if len(match['com'].unique()) == 1:\n",
    "        incom = int(match['com'].unique()[0])\n",
    "        conspiracy_tl += [ei_df.loc[incom, ['Total_Links','EI_Index']][0]]\n",
    "        conspiracy_ei += [ei_df.loc[incom, ['Total_Links','EI_Index']][1]]\n",
    "        conspiracy_dt += [date]\n",
    "        print(date, incom)\n",
    "    else:\n",
    "        print('**', date, len(match['com'].unique()), 'comm')\n",
    "\n",
    "politics_tl = []\n",
    "politics_ei = []\n",
    "politics_dt = []\n",
    "n=1\n",
    "for date in _center_dates:\n",
    "    ei_df = pd.read_pickle((id_l + date + ('/EI_DF_{}_{}_{}.pkl').format(j, k, r)))\n",
    "    top_75 = ei_df.sort_values(by=['Total_Links'], ascending=False).head(75)\n",
    "    comm_sub_pairs = pd.read_pickle((id_l + date + ('/CSP_{}_{}_{}.pkl').format(j, k, r)))\n",
    "    top_ns_75 = comm_sub_pairs.loc[top_75.index].groupby(level=0, axis=0).apply(lambda x : x.head(n)).droplevel(0)\n",
    "    coms = top_ns_75.index.get_level_values(0)\n",
    "    subs = top_ns_75.index.get_level_values(1)\n",
    "    dekka = pd.DataFrame({'com':coms, 'sub':subs})\n",
    "    insubs = ['politics']\n",
    "    match = dekka[dekka['sub'].isin(insubs)]\n",
    "    if len(match['com'].unique()) == 1:\n",
    "        incom = int(match['com'].unique()[0])\n",
    "        politics_tl += [ei_df.loc[incom, ['Total_Links','EI_Index']][0]]\n",
    "        politics_ei += [ei_df.loc[incom, ['Total_Links','EI_Index']][1]]\n",
    "        politics_dt += [date]\n",
    "        print(date, incom)\n",
    "    else:\n",
    "        print('**', date, len(match['com'].unique()), 'comm')"
   ]
  }
 ],
 "metadata": {
  "kernelspec": {
   "display_name": "Python 3.9.7 64-bit ('2021.11')",
   "language": "python",
   "name": "python3"
  },
  "language_info": {
   "codemirror_mode": {
    "name": "ipython",
    "version": 3
   },
   "file_extension": ".py",
   "mimetype": "text/x-python",
   "name": "python",
   "nbconvert_exporter": "python",
   "pygments_lexer": "ipython3",
   "version": "3.9.7"
  },
  "orig_nbformat": 4,
  "vscode": {
   "interpreter": {
    "hash": "3d640762a30aa107e3ef8edb5155f89bb0fa7043f11b91a52d0500674fcb9c16"
   }
  }
 },
 "nbformat": 4,
 "nbformat_minor": 2
}
